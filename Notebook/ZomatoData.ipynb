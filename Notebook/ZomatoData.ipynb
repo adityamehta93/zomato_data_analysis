{
  "cells": [
    {
      "cell_type": "code",
      "execution_count": null,
      "metadata": {
        "colab": {
          "base_uri": "https://localhost:8080/"
        },
        "id": "4NQ8XEN37z2B",
        "outputId": "116e15b3-d9a3-44b9-fd66-95a0dea92b84"
      },
      "outputs": [
        {
          "name": "stdout",
          "output_type": "stream",
          "text": [
            "Mounted at /content/drive\n"
          ]
        }
      ],
      "source": [
        "# Mount Google Drive to access files\n",
        "from google.colab import drive\n",
        "drive.mount('/content/drive', force_remount=True)"
      ]
    },
    {
      "cell_type": "code",
      "execution_count": null,
      "metadata": {
        "colab": {
          "base_uri": "https://localhost:8080/"
        },
        "id": "tSTLzDQz-IBU",
        "outputId": "78303a1b-caa8-4b28-c27a-0643e1199e28"
      },
      "outputs": [
        {
          "name": "stdout",
          "output_type": "stream",
          "text": [
            "Collecting pandasql\n",
            "  Downloading pandasql-0.7.3.tar.gz (26 kB)\n",
            "  Preparing metadata (setup.py) ... \u001b[?25l\u001b[?25hdone\n",
            "Requirement already satisfied: numpy in /usr/local/lib/python3.11/dist-packages (from pandasql) (2.0.2)\n",
            "Requirement already satisfied: pandas in /usr/local/lib/python3.11/dist-packages (from pandasql) (2.2.2)\n",
            "Requirement already satisfied: sqlalchemy in /usr/local/lib/python3.11/dist-packages (from pandasql) (2.0.41)\n",
            "Requirement already satisfied: python-dateutil>=2.8.2 in /usr/local/lib/python3.11/dist-packages (from pandas->pandasql) (2.9.0.post0)\n",
            "Requirement already satisfied: pytz>=2020.1 in /usr/local/lib/python3.11/dist-packages (from pandas->pandasql) (2025.2)\n",
            "Requirement already satisfied: tzdata>=2022.7 in /usr/local/lib/python3.11/dist-packages (from pandas->pandasql) (2025.2)\n",
            "Requirement already satisfied: greenlet>=1 in /usr/local/lib/python3.11/dist-packages (from sqlalchemy->pandasql) (3.2.3)\n",
            "Requirement already satisfied: typing-extensions>=4.6.0 in /usr/local/lib/python3.11/dist-packages (from sqlalchemy->pandasql) (4.14.1)\n",
            "Requirement already satisfied: six>=1.5 in /usr/local/lib/python3.11/dist-packages (from python-dateutil>=2.8.2->pandas->pandasql) (1.17.0)\n",
            "Building wheels for collected packages: pandasql\n",
            "  Building wheel for pandasql (setup.py) ... \u001b[?25l\u001b[?25hdone\n",
            "  Created wheel for pandasql: filename=pandasql-0.7.3-py3-none-any.whl size=26773 sha256=f590e3f7bdd0833f5a86a89da6269409a102e9752528422fc3c774f1eba2f125\n",
            "  Stored in directory: /root/.cache/pip/wheels/68/5d/a5/edc271b998f909801d7956959f699b976cc9896075dc47c153\n",
            "Successfully built pandasql\n",
            "Installing collected packages: pandasql\n",
            "Successfully installed pandasql-0.7.3\n"
          ]
        }
      ],
      "source": [
        "# Import pandas and install pandasql\n",
        "import pandas as pd\n",
        "!pip install pandasql\n"
      ]
    },
    {
      "cell_type": "code",
      "execution_count": null,
      "metadata": {
        "colab": {
          "base_uri": "https://localhost:8080/"
        },
        "id": "wqQo30bEAIZP",
        "outputId": "97ca9f49-8fa7-4622-cffb-9e4ab58a5b3b"
      },
      "outputs": [
        {
          "name": "stdout",
          "output_type": "stream",
          "text": [
            "<class 'pandas.core.frame.DataFrame'>\n",
            "RangeIndex: 51717 entries, 0 to 51716\n",
            "Data columns (total 17 columns):\n",
            " #   Column                       Non-Null Count  Dtype \n",
            "---  ------                       --------------  ----- \n",
            " 0   url                          51717 non-null  object\n",
            " 1   address                      51717 non-null  object\n",
            " 2   name                         51717 non-null  object\n",
            " 3   online_order                 51717 non-null  object\n",
            " 4   book_table                   51717 non-null  object\n",
            " 5   rate                         43942 non-null  object\n",
            " 6   votes                        51717 non-null  int64 \n",
            " 7   phone                        50509 non-null  object\n",
            " 8   location                     51696 non-null  object\n",
            " 9   rest_type                    51490 non-null  object\n",
            " 10  dish_liked                   23639 non-null  object\n",
            " 11  cuisines                     51672 non-null  object\n",
            " 12  approx_cost(for two people)  51371 non-null  object\n",
            " 13  reviews_list                 51717 non-null  object\n",
            " 14  menu_item                    51717 non-null  object\n",
            " 15  listed_in(type)              51717 non-null  object\n",
            " 16  listed_in(city)              51717 non-null  object\n",
            "dtypes: int64(1), object(16)\n",
            "memory usage: 6.7+ MB\n"
          ]
        }
      ],
      "source": [
        "# Load the zomato dataset and display its information\n",
        "df = pd.read_csv('/content/drive/MyDrive/ZomData/zomato.csv')\n",
        "df.info()"
      ]
    },
    {
      "cell_type": "code",
      "execution_count": null,
      "metadata": {
        "id": "2P3-FRuKLn8D"
      },
      "outputs": [],
      "source": [
        "# Drop irrelevant columns\n",
        "df2=df.drop(columns=['url','phone','rest_type','dish_liked','reviews_list','menu_item','listed_in(city)'],axis=1)"
      ]
    },
    {
      "cell_type": "code",
      "execution_count": null,
      "metadata": {
        "colab": {
          "base_uri": "https://localhost:8080/"
        },
        "id": "yCe_6ixILyP_",
        "outputId": "46f8e17e-950a-4d98-cdfd-1c4a770e3ac7"
      },
      "outputs": [
        {
          "name": "stdout",
          "output_type": "stream",
          "text": [
            "<class 'pandas.core.frame.DataFrame'>\n",
            "RangeIndex: 51717 entries, 0 to 51716\n",
            "Data columns (total 10 columns):\n",
            " #   Column                       Non-Null Count  Dtype \n",
            "---  ------                       --------------  ----- \n",
            " 0   address                      51717 non-null  object\n",
            " 1   name                         51717 non-null  object\n",
            " 2   online_order                 51717 non-null  object\n",
            " 3   book_table                   51717 non-null  object\n",
            " 4   rate                         43942 non-null  object\n",
            " 5   votes                        51717 non-null  int64 \n",
            " 6   location                     51696 non-null  object\n",
            " 7   cuisines                     51672 non-null  object\n",
            " 8   approx_cost(for two people)  51371 non-null  object\n",
            " 9   listed_in(type)              51717 non-null  object\n",
            "dtypes: int64(1), object(9)\n",
            "memory usage: 3.9+ MB\n"
          ]
        }
      ],
      "source": [
        "# Display information about the DataFrame after dropping columns\n",
        "df2.info()"
      ]
    },
    {
      "cell_type": "code",
      "execution_count": null,
      "metadata": {
        "colab": {
          "base_uri": "https://localhost:8080/"
        },
        "id": "c5mYl_JmL8e-",
        "outputId": "5133057d-c6f1-4535-ea8e-1c4e783c5404"
      },
      "outputs": [
        {
          "name": "stdout",
          "output_type": "stream",
          "text": [
            "<class 'pandas.core.frame.DataFrame'>\n",
            "RangeIndex: 51717 entries, 0 to 51716\n",
            "Data columns (total 10 columns):\n",
            " #   Column           Non-Null Count  Dtype \n",
            "---  ------           --------------  ----- \n",
            " 0   address          51717 non-null  object\n",
            " 1   name             51717 non-null  object\n",
            " 2   online_order     51717 non-null  object\n",
            " 3   book_table       51717 non-null  object\n",
            " 4   Rating           43942 non-null  object\n",
            " 5   votes            51717 non-null  int64 \n",
            " 6   location         51696 non-null  object\n",
            " 7   cuisines         51672 non-null  object\n",
            " 8   Two_people_cost  51371 non-null  object\n",
            " 9   Restaurant_Type  51717 non-null  object\n",
            "dtypes: int64(1), object(9)\n",
            "memory usage: 3.9+ MB\n"
          ]
        }
      ],
      "source": [
        "# Rename columns for clarity\n",
        "df2.rename({'listed_in(type)':'Restaurant_Type','rate':'Rating','approx_cost(for two people)':'Two_people_cost'},axis=1,inplace=True)\n",
        "df2.info()"
      ]
    },
    {
      "cell_type": "code",
      "execution_count": null,
      "metadata": {
        "colab": {
          "base_uri": "https://localhost:8080/"
        },
        "id": "BdHq8h_ywBnc",
        "outputId": "0ea7207f-14e1-4632-c280-8f63a3f25109"
      },
      "outputs": [
        {
          "name": "stdout",
          "output_type": "stream",
          "text": [
            "address               0\n",
            "name                  0\n",
            "online_order          0\n",
            "book_table            0\n",
            "Rating             7775\n",
            "votes                 0\n",
            "location             21\n",
            "cuisines             45\n",
            "Two_people_cost     346\n",
            "Restaurant_Type       0\n",
            "dtype: int64\n"
          ]
        }
      ],
      "source": [
        "# Check for null values in each column\n",
        "print(df2.isnull().sum())"
      ]
    },
    {
      "cell_type": "code",
      "execution_count": null,
      "metadata": {
        "id": "WSFeXkXAyAht"
      },
      "outputs": [],
      "source": [
        "# Remove leading/trailing whitespace from the 'Rating' column\n",
        "df2['Rating'] = df2['Rating'].str.strip()"
      ]
    },
    {
      "cell_type": "code",
      "execution_count": null,
      "metadata": {
        "id": "-OyKIMKByEHA"
      },
      "outputs": [],
      "source": [
        "# Remove '/5' from the 'Rating' column\n",
        "df2['Rating'] = df2['Rating'].str.replace('/5', '', regex=False)"
      ]
    },
    {
      "cell_type": "code",
      "execution_count": null,
      "metadata": {
        "id": "mtPi3gQlyKXa"
      },
      "outputs": [],
      "source": [
        "# Convert the 'Rating' column to numeric, coercing errors\n",
        "df2['Rating'] = pd.to_numeric(df2['Rating'], errors='coerce')"
      ]
    },
    {
      "cell_type": "code",
      "execution_count": null,
      "metadata": {
        "id": "ZMnNzn8EyQEI"
      },
      "outputs": [],
      "source": [
        "# Remove currency symbol and commas from 'Two_people_cost'\n",
        "df2['Two_people_cost'] = df2['Two_people_cost'].str.replace('₹', '', regex=False)\n",
        "df2['Two_people_cost'] = df2['Two_people_cost'].str.replace(',', '', regex=False)\n"
      ]
    },
    {
      "cell_type": "code",
      "execution_count": null,
      "metadata": {
        "id": "YK4h6zwDyVFo"
      },
      "outputs": [],
      "source": [
        "# Convert 'Two_people_cost' to numeric, coercing errors\n",
        "df2['Two_people_cost'] = pd.to_numeric(df2['Two_people_cost'], errors='coerce')\n"
      ]
    },
    {
      "cell_type": "code",
      "execution_count": null,
      "metadata": {
        "id": "ty8larAGybjQ"
      },
      "outputs": [],
      "source": [
        "# Convert 'online_order' and 'book_table' to boolean\n",
        "df2['online_order'] = df2['online_order'].str.strip().map({'Yes': True, 'No': False})\n",
        "df2['book_table'] = df2['book_table'].str.strip().map({'Yes': True, 'No': False})\n"
      ]
    },
    {
      "cell_type": "code",
      "execution_count": null,
      "metadata": {
        "colab": {
          "base_uri": "https://localhost:8080/"
        },
        "id": "pJCMEf20yc3a",
        "outputId": "2fcf994d-b054-4731-b587-4eaaaefdf140"
      },
      "outputs": [
        {
          "name": "stdout",
          "output_type": "stream",
          "text": [
            "<class 'pandas.core.frame.DataFrame'>\n",
            "RangeIndex: 51717 entries, 0 to 51716\n",
            "Data columns (total 10 columns):\n",
            " #   Column           Non-Null Count  Dtype  \n",
            "---  ------           --------------  -----  \n",
            " 0   address          51717 non-null  object \n",
            " 1   name             51717 non-null  object \n",
            " 2   online_order     51717 non-null  bool   \n",
            " 3   book_table       51717 non-null  bool   \n",
            " 4   Rating           41665 non-null  float64\n",
            " 5   votes            51717 non-null  int64  \n",
            " 6   location         51696 non-null  object \n",
            " 7   cuisines         51672 non-null  object \n",
            " 8   Two_people_cost  51371 non-null  float64\n",
            " 9   Restaurant_Type  51717 non-null  object \n",
            "dtypes: bool(2), float64(2), int64(1), object(5)\n",
            "memory usage: 3.3+ MB\n"
          ]
        }
      ],
      "source": [
        "# Display information about the DataFrame after type conversions\n",
        "df2.info()"
      ]
    },
    {
      "cell_type": "code",
      "execution_count": null,
      "metadata": {
        "id": "q-Eo2nwCyf8d"
      },
      "outputs": [],
      "source": [
        "# Fill missing 'Rating' values with the median\n",
        "df2['Rating'] = df2['Rating'].fillna(df2['Rating'].median())\n"
      ]
    },
    {
      "cell_type": "code",
      "execution_count": null,
      "metadata": {
        "id": "7Z2wdzyxy1c1"
      },
      "outputs": [],
      "source": [
        "# Fill missing 'location' values with 'Unknown'\n",
        "df2['location'] = df2['location'].fillna('Unknown')"
      ]
    },
    {
      "cell_type": "code",
      "execution_count": null,
      "metadata": {
        "id": "ddNscS_Yy8IA"
      },
      "outputs": [],
      "source": [
        "# Fill missing 'cuisines' values with 'Various'\n",
        "df2['cuisines'] = df2['cuisines'].fillna('Various')"
      ]
    },
    {
      "cell_type": "code",
      "execution_count": null,
      "metadata": {
        "id": "VnBMUv2jzKrN"
      },
      "outputs": [],
      "source": [
        "# Fill missing 'Two_people_cost' values with the median\n",
        "df2['Two_people_cost'] = df2['Two_people_cost'].fillna(df2['Two_people_cost'].median())"
      ]
    },
    {
      "cell_type": "code",
      "execution_count": null,
      "metadata": {
        "colab": {
          "base_uri": "https://localhost:8080/"
        },
        "id": "MvW4FrH7zNa8",
        "outputId": "e82d6018-b80d-437b-8d29-c52a90d91c05"
      },
      "outputs": [
        {
          "name": "stdout",
          "output_type": "stream",
          "text": [
            "<class 'pandas.core.frame.DataFrame'>\n",
            "RangeIndex: 51717 entries, 0 to 51716\n",
            "Data columns (total 10 columns):\n",
            " #   Column           Non-Null Count  Dtype  \n",
            "---  ------           --------------  -----  \n",
            " 0   address          51717 non-null  object \n",
            " 1   name             51717 non-null  object \n",
            " 2   online_order     51717 non-null  bool   \n",
            " 3   book_table       51717 non-null  bool   \n",
            " 4   Rating           51717 non-null  float64\n",
            " 5   votes            51717 non-null  int64  \n",
            " 6   location         51717 non-null  object \n",
            " 7   cuisines         51717 non-null  object \n",
            " 8   Two_people_cost  51717 non-null  float64\n",
            " 9   Restaurant_Type  51717 non-null  object \n",
            "dtypes: bool(2), float64(2), int64(1), object(5)\n",
            "memory usage: 3.3+ MB\n"
          ]
        }
      ],
      "source": [
        "# Display information about the DataFrame after filling missing values\n",
        "df2.info()"
      ]
    },
    {
      "cell_type": "code",
      "execution_count": null,
      "metadata": {
        "colab": {
          "base_uri": "https://localhost:8080/"
        },
        "id": "v7-zFA9tzQcp",
        "outputId": "2ee18b62-1316-4697-f224-7098e6aaded1"
      },
      "outputs": [
        {
          "name": "stdout",
          "output_type": "stream",
          "text": [
            "address            0\n",
            "name               0\n",
            "online_order       0\n",
            "book_table         0\n",
            "Rating             0\n",
            "votes              0\n",
            "location           0\n",
            "cuisines           0\n",
            "Two_people_cost    0\n",
            "Restaurant_Type    0\n",
            "dtype: int64\n"
          ]
        }
      ],
      "source": [
        "# Verify that there are no more null values\n",
        "print(df2.isnull().sum())"
      ]
    },
    {
      "cell_type": "code",
      "execution_count": null,
      "metadata": {
        "colab": {
          "base_uri": "https://localhost:8080/"
        },
        "id": "8HydhMbvzvLT",
        "outputId": "df8bb04d-394a-4130-b841-e450e6a5d518"
      },
      "outputs": [
        {
          "data": {
            "text/plain": [
              "(51717, 10)"
            ]
          },
          "execution_count": 32,
          "metadata": {},
          "output_type": "execute_result"
        }
      ],
      "source": [
        "# Display the shape of the DataFrame\n",
        "df2.shape"
      ]
    },
    {
      "cell_type": "code",
      "execution_count": null,
      "metadata": {
        "id": "CqCdokiC0k9P"
      },
      "outputs": [],
      "source": [
        "# Remove duplicate rows\n",
        "df3=df2.drop_duplicates()"
      ]
    },
    {
      "cell_type": "code",
      "execution_count": null,
      "metadata": {
        "colab": {
          "base_uri": "https://localhost:8080/"
        },
        "id": "shdCOpQb0tem",
        "outputId": "5bfb9df7-7368-4521-c825-8d390047fd22"
      },
      "outputs": [
        {
          "name": "stdout",
          "output_type": "stream",
          "text": [
            "<class 'pandas.core.frame.DataFrame'>\n",
            "Index: 31924 entries, 0 to 51716\n",
            "Data columns (total 10 columns):\n",
            " #   Column           Non-Null Count  Dtype  \n",
            "---  ------           --------------  -----  \n",
            " 0   address          31924 non-null  object \n",
            " 1   name             31924 non-null  object \n",
            " 2   online_order     31924 non-null  bool   \n",
            " 3   book_table       31924 non-null  bool   \n",
            " 4   Rating           31924 non-null  float64\n",
            " 5   votes            31924 non-null  int64  \n",
            " 6   location         31924 non-null  object \n",
            " 7   cuisines         31924 non-null  object \n",
            " 8   Two_people_cost  31924 non-null  float64\n",
            " 9   Restaurant_Type  31924 non-null  object \n",
            "dtypes: bool(2), float64(2), int64(1), object(5)\n",
            "memory usage: 2.3+ MB\n"
          ]
        }
      ],
      "source": [
        "# Display information about the DataFrame after dropping duplicates\n",
        "df3.info()"
      ]
    },
    {
      "cell_type": "code",
      "execution_count": null,
      "metadata": {
        "id": "ri99LKSl1Ttr"
      },
      "outputs": [],
      "source": [
        "# Calculate cost per person by dividing by 2\n",
        "df3.loc[:, 'Two_people_cost'] = df3['Two_people_cost'] / 2"
      ]
    },
    {
      "cell_type": "code",
      "execution_count": null,
      "metadata": {
        "id": "ia79V48125K9"
      },
      "outputs": [],
      "source": [
        "# Rename the 'Two_people_cost' column to 'cost_per_person'\n",
        "df3=df3.rename(columns={'Two_people_cost':'cost_per_person'})"
      ]
    },
    {
      "cell_type": "code",
      "execution_count": null,
      "metadata": {
        "id": "ozqF_FSW4RVa"
      },
      "outputs": [],
      "source": [
        "# Save the cleaned DataFrame to a CSV file\n",
        "df3.to_csv(\"zomato_data_analysis.csv\")"
      ]
    },
    {
      "cell_type": "code",
      "execution_count": null,
      "metadata": {
        "colab": {
          "base_uri": "https://localhost:8080/"
        },
        "id": "Ru4IuMZt5EFJ",
        "outputId": "678b4111-2c94-4c97-9467-0fa85aefc662"
      },
      "outputs": [
        {
          "name": "stdout",
          "output_type": "stream",
          "text": [
            "<class 'pandas.core.frame.DataFrame'>\n",
            "Index: 31924 entries, 0 to 51716\n",
            "Data columns (total 10 columns):\n",
            " #   Column           Non-Null Count  Dtype  \n",
            "---  ------           --------------  -----  \n",
            " 0   address          31924 non-null  object \n",
            " 1   name             31924 non-null  object \n",
            " 2   online_order     31924 non-null  bool   \n",
            " 3   book_table       31924 non-null  bool   \n",
            " 4   Rating           31924 non-null  float64\n",
            " 5   votes            31924 non-null  int64  \n",
            " 6   location         31924 non-null  object \n",
            " 7   cuisines         31924 non-null  object \n",
            " 8   cost_per_person  31924 non-null  float64\n",
            " 9   Restaurant_Type  31924 non-null  object \n",
            "dtypes: bool(2), float64(2), int64(1), object(5)\n",
            "memory usage: 2.3+ MB\n"
          ]
        }
      ],
      "source": [
        "# Display information about the final DataFrame\n",
        "df3.info()"
      ]
    },
    {
      "cell_type": "code",
      "execution_count": null,
      "metadata": {
        "id": "pEsh2LbC5rNk"
      },
      "outputs": [],
      "source": [
        "# Apply title casing to key categorical text columns\n",
        "df3['name'] = df3['name'].str.title()\n",
        "df3['location'] = df3['location'].str.title()\n",
        "df3['cuisines'] = df3['cuisines'].str.title()\n",
        "df3['Restaurant_Type'] = df3['Restaurant_Type'].str.title()\n"
      ]
    },
    {
      "cell_type": "code",
      "execution_count": null,
      "metadata": {
        "colab": {
          "base_uri": "https://localhost:8080/",
          "height": 206
        },
        "id": "nhPdELMj52UU",
        "outputId": "63c66b76-852a-4bac-b907-28fbe156f35b"
      },
      "outputs": [
        {
          "data": {
            "application/vnd.google.colaboratory.intrinsic+json": {
              "summary": "{\n  \"name\": \"df3[['name', 'location', 'cuisines', 'Restaurant_Type', 'online_order', 'book_table']]\",\n  \"rows\": 5,\n  \"fields\": [\n    {\n      \"column\": \"name\",\n      \"properties\": {\n        \"dtype\": \"string\",\n        \"num_unique_values\": 5,\n        \"samples\": [\n          \"Spice Elephant\",\n          \"Grand Village\",\n          \"San Churro Cafe\"\n        ],\n        \"semantic_type\": \"\",\n        \"description\": \"\"\n      }\n    },\n    {\n      \"column\": \"location\",\n      \"properties\": {\n        \"dtype\": \"category\",\n        \"num_unique_values\": 2,\n        \"samples\": [\n          \"Basavanagudi\",\n          \"Banashankari\"\n        ],\n        \"semantic_type\": \"\",\n        \"description\": \"\"\n      }\n    },\n    {\n      \"column\": \"cuisines\",\n      \"properties\": {\n        \"dtype\": \"string\",\n        \"num_unique_values\": 5,\n        \"samples\": [\n          \"Chinese, North Indian, Thai\",\n          \"North Indian, Rajasthani\"\n        ],\n        \"semantic_type\": \"\",\n        \"description\": \"\"\n      }\n    },\n    {\n      \"column\": \"Restaurant_Type\",\n      \"properties\": {\n        \"dtype\": \"category\",\n        \"num_unique_values\": 1,\n        \"samples\": [\n          \"Buffet\"\n        ],\n        \"semantic_type\": \"\",\n        \"description\": \"\"\n      }\n    },\n    {\n      \"column\": \"online_order\",\n      \"properties\": {\n        \"dtype\": \"boolean\",\n        \"num_unique_values\": 2,\n        \"samples\": [\n          false\n        ],\n        \"semantic_type\": \"\",\n        \"description\": \"\"\n      }\n    },\n    {\n      \"column\": \"book_table\",\n      \"properties\": {\n        \"dtype\": \"boolean\",\n        \"num_unique_values\": 2,\n        \"samples\": [\n          false\n        ],\n        \"semantic_type\": \"\",\n        \"description\": \"\"\n      }\n    }\n  ]\n}",
              "type": "dataframe"
            },
            "text/html": [
              "\n",
              "  <div id=\"df-f862a51d-918d-49dd-ad2b-8c1873d1e31b\" class=\"colab-df-container\">\n",
              "    <div>\n",
              "<style scoped>\n",
              "    .dataframe tbody tr th:only-of-type {\n",
              "        vertical-align: middle;\n",
              "    }\n",
              "\n",
              "    .dataframe tbody tr th {\n",
              "        vertical-align: top;\n",
              "    }\n",
              "\n",
              "    .dataframe thead th {\n",
              "        text-align: right;\n",
              "    }\n",
              "</style>\n",
              "<table border=\"1\" class=\"dataframe\">\n",
              "  <thead>\n",
              "    <tr style=\"text-align: right;\">\n",
              "      <th></th>\n",
              "      <th>name</th>\n",
              "      <th>location</th>\n",
              "      <th>cuisines</th>\n",
              "      <th>Restaurant_Type</th>\n",
              "      <th>online_order</th>\n",
              "      <th>book_table</th>\n",
              "    </tr>\n",
              "  </thead>\n",
              "  <tbody>\n",
              "    <tr>\n",
              "      <th>0</th>\n",
              "      <td>Jalsa</td>\n",
              "      <td>Banashankari</td>\n",
              "      <td>North Indian, Mughlai, Chinese</td>\n",
              "      <td>Buffet</td>\n",
              "      <td>True</td>\n",
              "      <td>True</td>\n",
              "    </tr>\n",
              "    <tr>\n",
              "      <th>1</th>\n",
              "      <td>Spice Elephant</td>\n",
              "      <td>Banashankari</td>\n",
              "      <td>Chinese, North Indian, Thai</td>\n",
              "      <td>Buffet</td>\n",
              "      <td>True</td>\n",
              "      <td>False</td>\n",
              "    </tr>\n",
              "    <tr>\n",
              "      <th>2</th>\n",
              "      <td>San Churro Cafe</td>\n",
              "      <td>Banashankari</td>\n",
              "      <td>Cafe, Mexican, Italian</td>\n",
              "      <td>Buffet</td>\n",
              "      <td>True</td>\n",
              "      <td>False</td>\n",
              "    </tr>\n",
              "    <tr>\n",
              "      <th>3</th>\n",
              "      <td>Addhuri Udupi Bhojana</td>\n",
              "      <td>Banashankari</td>\n",
              "      <td>South Indian, North Indian</td>\n",
              "      <td>Buffet</td>\n",
              "      <td>False</td>\n",
              "      <td>False</td>\n",
              "    </tr>\n",
              "    <tr>\n",
              "      <th>4</th>\n",
              "      <td>Grand Village</td>\n",
              "      <td>Basavanagudi</td>\n",
              "      <td>North Indian, Rajasthani</td>\n",
              "      <td>Buffet</td>\n",
              "      <td>False</td>\n",
              "      <td>False</td>\n",
              "    </tr>\n",
              "  </tbody>\n",
              "</table>\n",
              "</div>\n",
              "    <div class=\"colab-df-buttons\">\n",
              "\n",
              "  <div class=\"colab-df-container\">\n",
              "    <button class=\"colab-df-convert\" onclick=\"convertToInteractive('df-f862a51d-918d-49dd-ad2b-8c1873d1e31b')\"\n",
              "            title=\"Convert this dataframe to an interactive table.\"\n",
              "            style=\"display:none;\">\n",
              "\n",
              "  <svg xmlns=\"http://www.w3.org/2000/svg\" height=\"24px\" viewBox=\"0 -960 960 960\">\n",
              "    <path d=\"M120-120v-720h720v720H120Zm60-500h600v-160H180v160Zm220 220h160v-160H400v160Zm0 220h160v-160H400v160ZM180-400h160v-160H180v160Zm440 0h160v-160H620v160ZM180-180h160v-160H180v160Zm440 0h160v-160H620v160Z\"/>\n",
              "  </svg>\n",
              "    </button>\n",
              "\n",
              "  <style>\n",
              "    .colab-df-container {\n",
              "      display:flex;\n",
              "      gap: 12px;\n",
              "    }\n",
              "\n",
              "    .colab-df-convert {\n",
              "      background-color: #E8F0FE;\n",
              "      border: none;\n",
              "      border-radius: 50%;\n",
              "      cursor: pointer;\n",
              "      display: none;\n",
              "      fill: #1967D2;\n",
              "      height: 32px;\n",
              "      padding: 0 0 0 0;\n",
              "      width: 32px;\n",
              "    }\n",
              "\n",
              "    .colab-df-convert:hover {\n",
              "      background-color: #E2EBFA;\n",
              "      box-shadow: 0px 1px 2px rgba(60, 64, 67, 0.3), 0px 1px 3px 1px rgba(60, 64, 67, 0.15);\n",
              "      fill: #174EA6;\n",
              "    }\n",
              "\n",
              "    .colab-df-buttons div {\n",
              "      margin-bottom: 4px;\n",
              "    }\n",
              "\n",
              "    [theme=dark] .colab-df-convert {\n",
              "      background-color: #3B4455;\n",
              "      fill: #D2E3FC;\n",
              "    }\n",
              "\n",
              "    [theme=dark] .colab-df-convert:hover {\n",
              "      background-color: #434B5C;\n",
              "      box-shadow: 0px 1px 3px 1px rgba(0, 0, 0, 0.15);\n",
              "      filter: drop-shadow(0px 1px 2px rgba(0, 0, 0, 0.3));\n",
              "      fill: #FFFFFF;\n",
              "    }\n",
              "  </style>\n",
              "\n",
              "    <script>\n",
              "      const buttonEl =\n",
              "        document.querySelector('#df-f862a51d-918d-49dd-ad2b-8c1873d1e31b button.colab-df-convert');\n",
              "      buttonEl.style.display =\n",
              "        google.colab.kernel.accessAllowed ? 'block' : 'none';\n",
              "\n",
              "      async function convertToInteractive(key) {\n",
              "        const element = document.querySelector('#df-f862a51d-918d-49dd-ad2b-8c1873d1e31b');\n",
              "        const dataTable =\n",
              "          await google.colab.kernel.invokeFunction('convertToInteractive',\n",
              "                                                    [key], {});\n",
              "        if (!dataTable) return;\n",
              "\n",
              "        const docLinkHtml = 'Like what you see? Visit the ' +\n",
              "          '<a target=\"_blank\" href=https://colab.research.google.com/notebooks/data_table.ipynb>data table notebook</a>'\n",
              "          + ' to learn more about interactive tables.';\n",
              "        element.innerHTML = '';\n",
              "        dataTable['output_type'] = 'display_data';\n",
              "        await google.colab.output.renderOutput(dataTable, element);\n",
              "        const docLink = document.createElement('div');\n",
              "        docLink.innerHTML = docLinkHtml;\n",
              "        element.appendChild(docLink);\n",
              "      }\n",
              "    </script>\n",
              "  </div>\n",
              "\n",
              "\n",
              "    <div id=\"df-dc60dfb3-8943-4702-801e-ee252eda1b12\">\n",
              "      <button class=\"colab-df-quickchart\" onclick=\"quickchart('df-dc60dfb3-8943-4702-801e-ee252eda1b12')\"\n",
              "                title=\"Suggest charts\"\n",
              "                style=\"display:none;\">\n",
              "\n",
              "<svg xmlns=\"http://www.w3.org/2000/svg\" height=\"24px\"viewBox=\"0 0 24 24\"\n",
              "     width=\"24px\">\n",
              "    <g>\n",
              "        <path d=\"M19 3H5c-1.1 0-2 .9-2 2v14c0 1.1.9 2 2 2h14c1.1 0 2-.9 2-2V5c0-1.1-.9-2-2-2zM9 17H7v-7h2v7zm4 0h-2V7h2v10zm4 0h-2v-4h2v4z\"/>\n",
              "    </g>\n",
              "</svg>\n",
              "      </button>\n",
              "\n",
              "<style>\n",
              "  .colab-df-quickchart {\n",
              "      --bg-color: #E8F0FE;\n",
              "      --fill-color: #1967D2;\n",
              "      --hover-bg-color: #E2EBFA;\n",
              "      --hover-fill-color: #174EA6;\n",
              "      --disabled-fill-color: #AAA;\n",
              "      --disabled-bg-color: #DDD;\n",
              "  }\n",
              "\n",
              "  [theme=dark] .colab-df-quickchart {\n",
              "      --bg-color: #3B4455;\n",
              "      --fill-color: #D2E3FC;\n",
              "      --hover-bg-color: #434B5C;\n",
              "      --hover-fill-color: #FFFFFF;\n",
              "      --disabled-bg-color: #3B4455;\n",
              "      --disabled-fill-color: #666;\n",
              "  }\n",
              "\n",
              "  .colab-df-quickchart {\n",
              "    background-color: var(--bg-color);\n",
              "    border: none;\n",
              "    border-radius: 50%;\n",
              "    cursor: pointer;\n",
              "    display: none;\n",
              "    fill: var(--fill-color);\n",
              "    height: 32px;\n",
              "    padding: 0;\n",
              "    width: 32px;\n",
              "  }\n",
              "\n",
              "  .colab-df-quickchart:hover {\n",
              "    background-color: var(--hover-bg-color);\n",
              "    box-shadow: 0 1px 2px rgba(60, 64, 67, 0.3), 0 1px 3px 1px rgba(60, 64, 67, 0.15);\n",
              "    fill: var(--button-hover-fill-color);\n",
              "  }\n",
              "\n",
              "  .colab-df-quickchart-complete:disabled,\n",
              "  .colab-df-quickchart-complete:disabled:hover {\n",
              "    background-color: var(--disabled-bg-color);\n",
              "    fill: var(--disabled-fill-color);\n",
              "    box-shadow: none;\n",
              "  }\n",
              "\n",
              "  .colab-df-spinner {\n",
              "    border: 2px solid var(--fill-color);\n",
              "    border-color: transparent;\n",
              "    border-bottom-color: var(--fill-color);\n",
              "    animation:\n",
              "      spin 1s steps(1) infinite;\n",
              "  }\n",
              "\n",
              "  @keyframes spin {\n",
              "    0% {\n",
              "      border-color: transparent;\n",
              "      border-bottom-color: var(--fill-color);\n",
              "      border-left-color: var(--fill-color);\n",
              "    }\n",
              "    20% {\n",
              "      border-color: transparent;\n",
              "      border-left-color: var(--fill-color);\n",
              "      border-top-color: var(--fill-color);\n",
              "    }\n",
              "    30% {\n",
              "      border-color: transparent;\n",
              "      border-left-color: var(--fill-color);\n",
              "      border-top-color: var(--fill-color);\n",
              "      border-right-color: var(--fill-color);\n",
              "    }\n",
              "    40% {\n",
              "      border-color: transparent;\n",
              "      border-right-color: var(--fill-color);\n",
              "      border-top-color: var(--fill-color);\n",
              "    }\n",
              "    60% {\n",
              "      border-color: transparent;\n",
              "      border-right-color: var(--fill-color);\n",
              "    }\n",
              "    80% {\n",
              "      border-color: transparent;\n",
              "      border-right-color: var(--fill-color);\n",
              "      border-bottom-color: var(--fill-color);\n",
              "    }\n",
              "    90% {\n",
              "      border-color: transparent;\n",
              "      border-bottom-color: var(--fill-color);\n",
              "    }\n",
              "  }\n",
              "</style>\n",
              "\n",
              "      <script>\n",
              "        async function quickchart(key) {\n",
              "          const quickchartButtonEl =\n",
              "            document.querySelector('#' + key + ' button');\n",
              "          quickchartButtonEl.disabled = true;  // To prevent multiple clicks.\n",
              "          quickchartButtonEl.classList.add('colab-df-spinner');\n",
              "          try {\n",
              "            const charts = await google.colab.kernel.invokeFunction(\n",
              "                'suggestCharts', [key], {});\n",
              "          } catch (error) {\n",
              "            console.error('Error during call to suggestCharts:', error);\n",
              "          }\n",
              "          quickchartButtonEl.classList.remove('colab-df-spinner');\n",
              "          quickchartButtonEl.classList.add('colab-df-quickchart-complete');\n",
              "        }\n",
              "        (() => {\n",
              "          let quickchartButtonEl =\n",
              "            document.querySelector('#df-dc60dfb3-8943-4702-801e-ee252eda1b12 button');\n",
              "          quickchartButtonEl.style.display =\n",
              "            google.colab.kernel.accessAllowed ? 'block' : 'none';\n",
              "        })();\n",
              "      </script>\n",
              "    </div>\n",
              "\n",
              "    </div>\n",
              "  </div>\n"
            ],
            "text/plain": [
              "                    name      location                        cuisines  \\\n",
              "0                  Jalsa  Banashankari  North Indian, Mughlai, Chinese   \n",
              "1         Spice Elephant  Banashankari     Chinese, North Indian, Thai   \n",
              "2        San Churro Cafe  Banashankari          Cafe, Mexican, Italian   \n",
              "3  Addhuri Udupi Bhojana  Banashankari      South Indian, North Indian   \n",
              "4          Grand Village  Basavanagudi        North Indian, Rajasthani   \n",
              "\n",
              "  Restaurant_Type  online_order  book_table  \n",
              "0          Buffet          True        True  \n",
              "1          Buffet          True       False  \n",
              "2          Buffet          True       False  \n",
              "3          Buffet         False       False  \n",
              "4          Buffet         False       False  "
            ]
          },
          "execution_count": 50,
          "metadata": {},
          "output_type": "execute_result"
        }
      ],
      "source": [
        "# Display the head of selected columns after title casing\n",
        "df3[['name', 'location', 'cuisines', 'Restaurant_Type', 'online_order', 'book_table']].head()"
      ]
    },
    {
      "cell_type": "code",
      "execution_count": null,
      "metadata": {
        "id": "aFQLbrOH66lp"
      },
      "outputs": [],
      "source": [
        "# Save the cleaned DataFrame to Google Drive\n",
        "df3.to_csv('/content/drive/MyDrive/zomato_cleaned_data.csv', index=False)\n"
      ]
    },
    {
      "cell_type": "code",
      "execution_count": null,
      "metadata": {
        "colab": {
          "base_uri": "https://localhost:8080/"
        },
        "id": "xBVA7hQT9zbk",
        "outputId": "11c8d55a-ae09-4592-d577-a71c86a15c2d"
      },
      "outputs": [
        {
          "name": "stdout",
          "output_type": "stream",
          "text": [
            "<class 'pandas.core.frame.DataFrame'>\n",
            "Index: 31924 entries, 0 to 51716\n",
            "Data columns (total 10 columns):\n",
            " #   Column           Non-Null Count  Dtype  \n",
            "---  ------           --------------  -----  \n",
            " 0   address          31924 non-null  object \n",
            " 1   name             31924 non-null  object \n",
            " 2   online_order     31924 non-null  bool   \n",
            " 3   book_table       31924 non-null  bool   \n",
            " 4   rating           31924 non-null  float64\n",
            " 5   votes            31924 non-null  int64  \n",
            " 6   location         31924 non-null  object \n",
            " 7   cuisines         31924 non-null  object \n",
            " 8   two_people_cost  31924 non-null  float64\n",
            " 9   restaurant_type  31924 non-null  object \n",
            "dtypes: bool(2), float64(2), int64(1), object(5)\n",
            "memory usage: 2.3+ MB\n"
          ]
        }
      ],
      "source": [
        "# Convert column names to lowercase and display info\n",
        "df3.columns = df3.columns.str.lower()\n",
        "df3.info()"
      ]
    },
    {
      "cell_type": "code",
      "execution_count": null,
      "metadata": {
        "id": "rkobILf4-Eyb"
      },
      "outputs": [],
      "source": [
        "# Save the DataFrame with lowercase column names to Google Drive\n",
        "df3.to_csv('/content/drive/MyDrive/zomato_cleaned_data.csv', index=False)"
      ]
    }
  ],
  "metadata": {
    "colab": {
      "provenance": []
    },
    "kernelspec": {
      "display_name": "Python 3",
      "name": "python3"
    },
    "language_info": {
      "name": "python"
    }
  },
  "nbformat": 4,
  "nbformat_minor": 0
}
